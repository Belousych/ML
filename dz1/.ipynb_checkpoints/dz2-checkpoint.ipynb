{
 "cells": [
  {
   "cell_type": "code",
   "execution_count": 429,
   "metadata": {},
   "outputs": [],
   "source": [
    "%matplotlib inline\n",
    "import matplotlib\n",
    "import matplotlib.pyplot as plt\n",
    "import numpy as np"
   ]
  },
  {
   "cell_type": "code",
   "execution_count": 430,
   "metadata": {},
   "outputs": [
    {
     "name": "stdout",
     "output_type": "stream",
     "text": [
      "id,l0,l1,l2,l3,l4,l5,l6,l7,y\n",
      "\n"
     ]
    }
   ],
   "source": [
    "X = []\n",
    "Y = []\n",
    "with open('train.csv', 'r') as f:\n",
    "    print(f.readline())\n",
    "    for line in f:\n",
    "        data = line.split(',')\n",
    "        _id = int(data[0])\n",
    "        y = float(data[-1])\n",
    "        x = [float(_x) for _x in data[1:-1]]\n",
    "        \n",
    "        X.append(x)\n",
    "        Y.append(y)\n"
   ]
  },
  {
   "cell_type": "code",
   "execution_count": 431,
   "metadata": {},
   "outputs": [],
   "source": [
    "X = np.array(X)\n",
    "Y = np.array(Y)"
   ]
  },
  {
   "cell_type": "code",
   "execution_count": 432,
   "metadata": {},
   "outputs": [],
   "source": [
    "W=np.array([0,0,0,0,0,0,0,-0.05])"
   ]
  },
  {
   "cell_type": "code",
   "execution_count": 433,
   "metadata": {},
   "outputs": [
    {
     "data": {
      "text/plain": [
       "array([ 0.0663158 ,  0.04138363, -0.15113494, ..., -0.034454  ,\n",
       "       -0.00538679, -0.02983227])"
      ]
     },
     "execution_count": 433,
     "metadata": {},
     "output_type": "execute_result"
    }
   ],
   "source": [
    "myY = X.dot(W)\n",
    "myY"
   ]
  },
  {
   "cell_type": "code",
   "execution_count": 434,
   "metadata": {},
   "outputs": [
    {
     "data": {
      "text/plain": [
       "2.5846212980730026"
      ]
     },
     "execution_count": 434,
     "metadata": {},
     "output_type": "execute_result"
    }
   ],
   "source": [
    "((X.dot(W) - Y)**2).mean()**0.5"
   ]
  },
  {
   "cell_type": "code",
   "execution_count": 435,
   "metadata": {},
   "outputs": [
    {
     "name": "stdout",
     "output_type": "stream",
     "text": [
      "id,l0,l1,l2,l3,l4,l5,l6,l7\n",
      "\n"
     ]
    }
   ],
   "source": [
    "Xtest = []\n",
    "Ytest = []\n",
    "with open('test_without_labels.csv', 'r') as f:\n",
    "    print(f.readline())\n",
    "    for line in f:\n",
    "        data = line.split(',')\n",
    "        _id = int(data[0])\n",
    "        y = float(data[-1])\n",
    "        x = [float(_x) for _x in data[1:]]\n",
    "        \n",
    "        Xtest.append(x)\n"
   ]
  },
  {
   "cell_type": "code",
   "execution_count": 436,
   "metadata": {},
   "outputs": [],
   "source": [
    "Xtest = np.array(Xtest)\n",
    "Ytest = []"
   ]
  },
  {
   "cell_type": "code",
   "execution_count": 437,
   "metadata": {},
   "outputs": [
    {
     "data": {
      "text/plain": [
       "[]"
      ]
     },
     "execution_count": 437,
     "metadata": {},
     "output_type": "execute_result"
    }
   ],
   "source": [
    "Ytest\n"
   ]
  },
  {
   "cell_type": "code",
   "execution_count": 438,
   "metadata": {},
   "outputs": [
    {
     "data": {
      "text/plain": [
       "array([[-0.26940413,  0.03119274, -0.63124376, ...,  0.12231192,\n",
       "         0.39717517,  0.45454864],\n",
       "       [-1.51604182,  0.84912314, -0.77080089, ..., -0.90479862,\n",
       "        -1.64635456, -4.34018441],\n",
       "       [ 0.02076198,  0.24366167,  0.81883505, ..., -1.04673384,\n",
       "         0.66733266, -1.05836792],\n",
       "       ...,\n",
       "       [ 0.59790498,  0.80156698,  0.69063792, ...,  5.98943855,\n",
       "         0.68376694,  0.21714672],\n",
       "       [ 2.04681276,  0.52753404, -0.12253917, ..., -1.55551133,\n",
       "        -0.40010153, -1.73078178],\n",
       "       [-1.46086158, -1.0050499 ,  0.5742688 , ..., -0.87442981,\n",
       "         1.28505272,  0.19621839]])"
      ]
     },
     "execution_count": 438,
     "metadata": {},
     "output_type": "execute_result"
    }
   ],
   "source": [
    "Xtest"
   ]
  },
  {
   "cell_type": "code",
   "execution_count": 439,
   "metadata": {},
   "outputs": [
    {
     "data": {
      "text/plain": [
       "(1500, 8)"
      ]
     },
     "execution_count": 439,
     "metadata": {},
     "output_type": "execute_result"
    }
   ],
   "source": [
    "Xtest.shape"
   ]
  },
  {
   "cell_type": "code",
   "execution_count": 440,
   "metadata": {},
   "outputs": [],
   "source": [
    "i = 0\n",
    "for _x in Xtest:\n",
    "    distance = ((X - _x)**2).sum(axis=1)**0.5\n",
    "    distance.argsort()\n",
    "    yNN = Y[distance.argsort()[:5]]\n",
    "    unique, counts = np.unique(yNN, return_counts=True)\n",
    "    my_dict = dict(zip(unique, counts))\n",
    "    key_max = int(max(my_dict.keys(), key=(lambda k: my_dict[k])))\n",
    "    Ytest.append([i, key_max])\n",
    "    i=int(i+1)\n",
    "    "
   ]
  },
  {
   "cell_type": "code",
   "execution_count": 441,
   "metadata": {},
   "outputs": [
    {
     "data": {
      "text/plain": [
       "array([[   0,    3],\n",
       "       [   1,    3],\n",
       "       [   2,    3],\n",
       "       ...,\n",
       "       [1497,    0],\n",
       "       [1498,    2],\n",
       "       [1499,    3]])"
      ]
     },
     "execution_count": 441,
     "metadata": {},
     "output_type": "execute_result"
    }
   ],
   "source": [
    "Ytest = np.array(Ytest)\n",
    "Ytest.shape\n",
    "Ytest"
   ]
  },
  {
   "cell_type": "code",
   "execution_count": 450,
   "metadata": {},
   "outputs": [],
   "source": [
    "np.savetxt(\"foo2.csv\", Ytest, fmt='%i', delimiter=';', header=\"id; y\", comments='')"
   ]
  }
 ],
 "metadata": {
  "kernelspec": {
   "display_name": "Python 3",
   "language": "python",
   "name": "python3"
  },
  "language_info": {
   "codemirror_mode": {
    "name": "ipython",
    "version": 3
   },
   "file_extension": ".py",
   "mimetype": "text/x-python",
   "name": "python",
   "nbconvert_exporter": "python",
   "pygments_lexer": "ipython3",
   "version": "3.6.5"
  }
 },
 "nbformat": 4,
 "nbformat_minor": 2
}
