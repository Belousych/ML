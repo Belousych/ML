{
 "cells": [
  {
   "cell_type": "code",
   "execution_count": 4,
   "metadata": {},
   "outputs": [],
   "source": [
    "%matplotlib inline\n",
    "import matplotlib\n",
    "import matplotlib.pyplot as plt\n",
    "import numpy as np"
   ]
  },
  {
   "cell_type": "code",
   "execution_count": 66,
   "metadata": {},
   "outputs": [
    {
     "name": "stdout",
     "output_type": "stream",
     "text": [
      "id,f1,f2,f3,f4,f5,y\n",
      "\n"
     ]
    }
   ],
   "source": [
    "X = []\n",
    "Y = []\n",
    "All = []\n",
    "with open('./src/train_simple_reg.csv', 'r') as f:\n",
    "    print(f.readline())\n",
    "    for line in f:\n",
    "        data = line.split(',')\n",
    "        _id = int(data[0])\n",
    "        y = float(data[-1])\n",
    "        x = [float(_x) for _x in data[1:-1]]\n",
    "        \n",
    "        X.append(x)\n",
    "        Y.append(y)\n",
    "        \n",
    "        all_data = [float(_x) for _x in data[1:]]\n",
    "        \n",
    "        All.append(all_data)\n",
    "        \n"
   ]
  },
  {
   "cell_type": "code",
   "execution_count": 86,
   "metadata": {},
   "outputs": [],
   "source": [
    "X = np.array(X)\n",
    "Y = np.array(Y)\n",
    "All = np.array(All)\n",
    "test = All[:2]\n",
    "np.linalg.matrix_rank(test)\n",
    "W = np.linalg.lstsq(X, Y, rcond=None)[0]"
   ]
  },
  {
   "cell_type": "code",
   "execution_count": 87,
   "metadata": {},
   "outputs": [],
   "source": [
    "# W=np.array([-5.023425,25.22800208,-10.11129295,-8.66006065,31.18213141])"
   ]
  },
  {
   "cell_type": "code",
   "execution_count": 88,
   "metadata": {},
   "outputs": [
    {
     "data": {
      "text/plain": [
       "array([  74.54866594,   14.50572028, -174.8535377 , ...,    4.50980975,\n",
       "         90.60301226,  101.8507598 ])"
      ]
     },
     "execution_count": 88,
     "metadata": {},
     "output_type": "execute_result"
    }
   ],
   "source": [
    "myY = X.dot(W)\n",
    "myY"
   ]
  },
  {
   "cell_type": "code",
   "execution_count": 89,
   "metadata": {},
   "outputs": [
    {
     "data": {
      "text/plain": [
       "0.30380527811683417"
      ]
     },
     "execution_count": 89,
     "metadata": {},
     "output_type": "execute_result"
    }
   ],
   "source": [
    "((X.dot(W) - Y)**2).mean()**0.5"
   ]
  },
  {
   "cell_type": "code",
   "execution_count": 103,
   "metadata": {},
   "outputs": [
    {
     "name": "stdout",
     "output_type": "stream",
     "text": [
      "id,f1,f2,f3,f4,f5\n",
      "\n"
     ]
    }
   ],
   "source": [
    "Xtest = []\n",
    "Ytest = []\n",
    "ID = []\n",
    "with open('./src/test_data_simple_reg.csv', 'r') as f:\n",
    "    print(f.readline())\n",
    "    for line in f:\n",
    "        data = line.split(',')\n",
    "        _id = int(data[0])\n",
    "        y = float(data[-1])\n",
    "        x = [float(_x) for _x in data[1:]]\n",
    "        \n",
    "        ID.append(_id)\n",
    "        Xtest.append(x)\n"
   ]
  },
  {
   "cell_type": "code",
   "execution_count": 104,
   "metadata": {},
   "outputs": [],
   "source": [
    "Xtest = np.array(Xtest)\n",
    "Ytest = []"
   ]
  },
  {
   "cell_type": "code",
   "execution_count": 105,
   "metadata": {},
   "outputs": [
    {
     "data": {
      "text/plain": [
       "array([[ 0.2792066 ,  1.16249803,  2.30958627, -1.8945449 , -0.59326735],\n",
       "       [-0.8004779 , -1.30670378,  0.26431358,  1.04567154, -0.34619676],\n",
       "       [ 0.26461917,  2.72806125, -0.57301071,  0.1294317 ,  0.31849361],\n",
       "       ...,\n",
       "       [-1.80250274,  1.21102754, -0.06093642, -0.66868357,  0.33629607],\n",
       "       [-0.53912127,  0.02144329, -1.07816718,  0.2168838 ,  0.05240968],\n",
       "       [-0.53737587, -0.11286944, -0.82219981, -0.23054688, -0.74382173]])"
      ]
     },
     "execution_count": 105,
     "metadata": {},
     "output_type": "execute_result"
    }
   ],
   "source": [
    "Xtest"
   ]
  },
  {
   "cell_type": "code",
   "execution_count": 106,
   "metadata": {},
   "outputs": [],
   "source": [
    "Ytest = Xtest.dot(W)"
   ]
  },
  {
   "cell_type": "code",
   "execution_count": 123,
   "metadata": {},
   "outputs": [],
   "source": [
    "Ytest = np.array(Ytest)\n",
    "Ytest.shape\n",
    "result = []\n",
    "for idx,line in enumerate(Ytest):\n",
    "    result.append([idx, line])\n",
    "    "
   ]
  },
  {
   "cell_type": "code",
   "execution_count": 124,
   "metadata": {},
   "outputs": [],
   "source": [
    "np.savetxt(\"random_sol.csv\", result, delimiter=',', header=\"id, y\", comments='')"
   ]
  }
 ],
 "metadata": {
  "kernelspec": {
   "display_name": "Python 3",
   "language": "python",
   "name": "python3"
  },
  "language_info": {
   "codemirror_mode": {
    "name": "ipython",
    "version": 3
   },
   "file_extension": ".py",
   "mimetype": "text/x-python",
   "name": "python",
   "nbconvert_exporter": "python",
   "pygments_lexer": "ipython3",
   "version": "3.6.5"
  }
 },
 "nbformat": 4,
 "nbformat_minor": 2
}
